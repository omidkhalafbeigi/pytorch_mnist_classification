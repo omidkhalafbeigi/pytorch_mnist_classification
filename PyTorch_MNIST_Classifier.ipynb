{
  "nbformat": 4,
  "nbformat_minor": 0,
  "metadata": {
    "colab": {
      "name": "PyTorch MNIST Classifier.ipynb",
      "provenance": [],
      "collapsed_sections": [],
      "authorship_tag": "ABX9TyMEcGofAdYyvby9osSuttXP",
      "include_colab_link": true
    },
    "kernelspec": {
      "name": "python3",
      "display_name": "Python 3"
    },
    "language_info": {
      "name": "python"
    },
    "accelerator": "GPU"
  },
  "cells": [
    {
      "cell_type": "markdown",
      "metadata": {
        "id": "view-in-github",
        "colab_type": "text"
      },
      "source": [
        "<a href=\"https://colab.research.google.com/github/omidkhalafbeigi/pytorch_mnist_classification/blob/main/PyTorch_MNIST_Classifier.ipynb\" target=\"_parent\"><img src=\"https://colab.research.google.com/assets/colab-badge.svg\" alt=\"Open In Colab\"/></a>"
      ]
    },
    {
      "cell_type": "code",
      "execution_count": 1,
      "metadata": {
        "id": "gdzJlYb0dkwE"
      },
      "outputs": [],
      "source": [
        "import torch\n",
        "from torch import nn\n",
        "from torch import optim\n",
        "import numpy as np\n",
        "from sklearn.preprocessing import MinMaxScaler\n",
        "from sklearn.datasets import load_digits\n",
        "from matplotlib import pyplot as plt\n",
        "from sklearn.model_selection import train_test_split\n",
        "from sklearn.metrics import accuracy_score\n"
      ]
    },
    {
      "cell_type": "code",
      "source": [
        "def shuffle(x : torch.Tensor, y : torch.Tensor):\n",
        "  idx = torch.randperm(x.shape[0])\n",
        "  x_randomized = x[idx]\n",
        "  y_randomized = y[idx]\n",
        "  \n",
        "  return x_randomized, y_randomized"
      ],
      "metadata": {
        "id": "ETNlLzvPqDt0"
      },
      "execution_count": 2,
      "outputs": []
    },
    {
      "cell_type": "code",
      "source": [
        "dataset = load_digits()\n",
        "X, y = dataset.data, dataset.target\n",
        "\n",
        "scaler = MinMaxScaler()\n",
        "X = scaler.fit_transform(X)\n",
        "X_train, X_test, y_train, y_test = train_test_split(X, y, test_size=0.1, shuffle=True)\n",
        "\n",
        "if torch.cuda.is_available(): device = 'cuda'\n",
        "else: device = 'cpu'\n",
        "\n",
        "X_train, y_train = torch.from_numpy(X_train.astype(dtype=np.float32)).to(device), torch.from_numpy(y_train.astype(dtype=np.int64)).to(device)\n",
        "X_test, y_test = torch.from_numpy(X_test.astype(dtype=np.float32)).to(device), torch.from_numpy(y_test.astype(dtype=np.int64)).to(device)"
      ],
      "metadata": {
        "id": "YZZ96VVSfUIv"
      },
      "execution_count": 3,
      "outputs": []
    },
    {
      "cell_type": "code",
      "source": [
        "X_train = X_train.view(-1, 1, 8, 8)\n",
        "X_test = X_test.view(-1, 1, 8, 8)"
      ],
      "metadata": {
        "id": "VRloQ_6gl357"
      },
      "execution_count": 4,
      "outputs": []
    },
    {
      "cell_type": "code",
      "source": [
        "batch_size = 64\n",
        "epochs = 1000\n",
        "\n",
        "conv2d = nn.Conv2d(in_channels=1, out_channels=16, kernel_size=(2, 2), stride=1, device=device)\n",
        "maxpool2d = nn.MaxPool2d(kernel_size=(2, 2), stride=1)\n",
        "linear = nn.Linear(in_features=6 * 6 * 16, out_features=20, device=device)\n",
        "output_layer = nn.Linear(in_features=20, out_features=10, device=device)\n",
        "parameters = list(conv2d.parameters()) + list(maxpool2d.parameters()) + list(linear.parameters()) + list(output_layer.parameters())\n",
        "\n",
        "sigmoid = nn.Sigmoid()\n",
        "optimizer = optim.Adam(params=parameters, lr=0.01)\n",
        "ce = nn.CrossEntropyLoss()\n",
        "softmax = nn.Softmax(dim=1)\n",
        "\n",
        "for epoch in range(epochs):\n",
        "  X_train, y_train = shuffle(X_train, y_train)\n",
        "  for batch in range(batch_size, X_train.shape[0], batch_size):\n",
        "    X = X_train[batch - batch_size : batch]\n",
        "    y = y_train[batch - batch_size : batch]\n",
        "\n",
        "    output = conv2d(X)\n",
        "    output = sigmoid(output)\n",
        "    output = maxpool2d(output)\n",
        "    output = output.view(-1, 6 * 6 * 16)\n",
        "    output = linear(output)\n",
        "    output = sigmoid(output)\n",
        "    output = output_layer(output)\n",
        "    output = softmax(output)\n",
        "    \n",
        "    loss = ce(output, y)\n",
        "    loss.backward()\n",
        "\n",
        "    optimizer.step()\n",
        "    optimizer.zero_grad()\n",
        "\n",
        "  if (epoch % 100) == 0:\n",
        "    print(f'Epoch: {epoch + 100}')"
      ],
      "metadata": {
        "colab": {
          "base_uri": "https://localhost:8080/"
        },
        "id": "ie6jf0utkP4o",
        "outputId": "0d1b3bd6-8817-4cf2-8a38-9512153b7492"
      },
      "execution_count": 8,
      "outputs": [
        {
          "output_type": "stream",
          "name": "stdout",
          "text": [
            "Epoch: 100\n",
            "Epoch: 200\n",
            "Epoch: 300\n",
            "Epoch: 400\n",
            "Epoch: 500\n",
            "Epoch: 600\n",
            "Epoch: 700\n",
            "Epoch: 800\n",
            "Epoch: 900\n",
            "Epoch: 1000\n"
          ]
        }
      ]
    },
    {
      "cell_type": "code",
      "source": [
        "output = conv2d(X_test)\n",
        "output = sigmoid(output)\n",
        "output = maxpool2d(output)\n",
        "output = output.view(-1, 6 * 6 * 16)\n",
        "output = linear(output)\n",
        "output = sigmoid(output)\n",
        "output = output_layer(output)\n",
        "output = softmax(output)\n",
        "\n",
        "y_pred = np.array(output.detach().to('cpu'))\n",
        "y_pred = np.argmax(y_pred, axis=1)\n",
        "\n",
        "accuracy = accuracy_score(y_true=np.array(y_test.detach().to('cpu')), y_pred=y_pred)\n",
        "print(f'Accuracy: {accuracy:0.3f}')"
      ],
      "metadata": {
        "colab": {
          "base_uri": "https://localhost:8080/"
        },
        "id": "RdZ_TgVfBRSI",
        "outputId": "ff383e11-6a94-4eb9-b021-d2ba0c673b91"
      },
      "execution_count": 10,
      "outputs": [
        {
          "output_type": "stream",
          "name": "stdout",
          "text": [
            "Accuracy: 0.961\n"
          ]
        }
      ]
    }
  ]
}